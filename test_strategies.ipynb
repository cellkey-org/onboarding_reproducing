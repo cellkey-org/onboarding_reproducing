{
 "cells": [
  {
   "cell_type": "code",
   "execution_count": 1,
   "metadata": {},
   "outputs": [],
   "source": [
    "from torch import nn, optim\n",
    "from torch.utils.data import DataLoader\n",
    "import torch\n",
    "import preprocessing\n",
    "from sklearn.model_selection import train_test_split\n",
    "import pandas as pd\n",
    "import torch.nn.functional as F\n",
    "from scipy.stats import pearsonr\n",
    "from train import train_model, test_model\n",
    "from model_BiLSTM_v1 import BiLSTM\n",
    "from torch.utils.tensorboard import SummaryWriter"
   ]
  },
  {
   "cell_type": "code",
   "execution_count": 2,
   "metadata": {},
   "outputs": [
    {
     "name": "stdout",
     "output_type": "stream",
     "text": [
      "Using device: mps\n"
     ]
    }
   ],
   "source": [
    "# MPS 장치가 사용 가능한지 확인\n",
    "if torch.backends.mps.is_available():\n",
    "    device = torch.device(\"mps\")\n",
    "else:\n",
    "    device = torch.device(\"cpu\")\n",
    "\n",
    "print(f\"Using device: {device}\")"
   ]
  },
  {
   "cell_type": "code",
   "execution_count": 3,
   "metadata": {},
   "outputs": [],
   "source": [
    "new_deepmass_df = pd.read_csv(\"./data/renewal_deepmass.tsv\", sep=\"\\t\", low_memory=False)\n",
    "new_hela1_df = pd.read_csv(\"./data/renewal_hela1.tsv\", sep=\"\\t\", low_memory=False)\n",
    "new_hela2_df = pd.read_csv(\"./data/renewal_hela2.tsv\", sep=\"\\t\", low_memory=False)"
   ]
  },
  {
   "cell_type": "code",
   "execution_count": 4,
   "metadata": {},
   "outputs": [],
   "source": [
    "max_seq_len = 35\n",
    "max_intens_len = 70"
   ]
  },
  {
   "cell_type": "code",
   "execution_count": 5,
   "metadata": {},
   "outputs": [],
   "source": [
    "# model setting\n",
    "input_size = 1\n",
    "hidden_size = 128\n",
    "num_layers = 2\n",
    "output_size = max_intens_len  # 출력 크기는 인텐시티 길이\n",
    "\n",
    "model = BiLSTM(input_size, hidden_size, num_layers, output_size).to(device)"
   ]
  },
  {
   "cell_type": "code",
   "execution_count": 6,
   "metadata": {},
   "outputs": [],
   "source": [
    "class CosineSimilarityLoss(nn.Module):\n",
    "    def __init__(self):\n",
    "        super(CosineSimilarityLoss, self).__init__()\n",
    "        self.cosine_similarity = nn.CosineSimilarity(dim=1, eps=1e-6)\n",
    "\n",
    "    def forward(self, y_pred, y_true):\n",
    "        return 1 - self.cosine_similarity(y_pred, y_true).mean()\n",
    "\n",
    "# 손실 함수 및 옵티마이저\n",
    "criterion = CosineSimilarityLoss()\n",
    "optimizer = optim.Adam(model.parameters(), lr=0.0001)"
   ]
  },
  {
   "cell_type": "markdown",
   "metadata": {},
   "source": [
    "### Trial #1: HeLa1 training:validation:test / 8:1:1"
   ]
  },
  {
   "cell_type": "code",
   "execution_count": 7,
   "metadata": {},
   "outputs": [],
   "source": [
    "tb_writer = SummaryWriter(\"./tensorboard_logs/trial1\")"
   ]
  },
  {
   "cell_type": "code",
   "execution_count": 8,
   "metadata": {},
   "outputs": [
    {
     "name": "stdout",
     "output_type": "stream",
     "text": [
      "total df: 16762, train df: 13409, val df: 1676, test df: 1677\n"
     ]
    }
   ],
   "source": [
    "train_df, val_test_df = train_test_split(new_hela1_df, test_size=0.2, random_state=44)\n",
    "val_df, test_df = train_test_split(val_test_df, test_size=0.5, random_state=44)\n",
    "\n",
    "print(f\"total df: {len(new_hela1_df)}, train df: {len(train_df)}, val df: {len(val_df)}, test df: {len(test_df)}\")"
   ]
  },
  {
   "cell_type": "code",
   "execution_count": 9,
   "metadata": {},
   "outputs": [],
   "source": [
    "train_dataset = preprocessing.retrieve_dataset(train_df, max_seq_len, max_intens_len)\n",
    "val_dataset = preprocessing.retrieve_dataset(val_df, max_seq_len, max_intens_len)\n",
    "test_dataset = preprocessing.retrieve_dataset(test_df, max_seq_len, max_intens_len)\n",
    "\n",
    "train_dataloader = DataLoader(train_dataset, batch_size=128, shuffle=True)\n",
    "val_dataloader = DataLoader(val_dataset, batch_size=128, shuffle=True)\n",
    "test_dataloader = DataLoader(test_dataset, batch_size=128, shuffle=True)\n",
    "\n",
    "hela2_dataset = preprocessing.retrieve_dataset(new_hela2_df, max_seq_len, max_intens_len)\n",
    "deepmass_dataset = preprocessing.retrieve_dataset(new_deepmass_df, max_seq_len, max_intens_len)\n",
    "hela2_dataloader = DataLoader(hela2_dataset, batch_size=128, shuffle=True)\n",
    "deepmass_dataloader = DataLoader(deepmass_dataset, batch_size=128, shuffle=True)"
   ]
  },
  {
   "cell_type": "code",
   "execution_count": 10,
   "metadata": {},
   "outputs": [
    {
     "data": {
      "text/plain": [
       "'./tensorboard_logs/trial1'"
      ]
     },
     "execution_count": 10,
     "metadata": {},
     "output_type": "execute_result"
    }
   ],
   "source": [
    "tb_writer.get_logdir()"
   ]
  },
  {
   "cell_type": "code",
   "execution_count": 11,
   "metadata": {},
   "outputs": [
    {
     "name": "stdout",
     "output_type": "stream",
     "text": [
      "Epoch [1/100], Train Loss: 0.4624, Validation Loss: 0.3050\n",
      "Train Cosine Similarity: 0.5373, Train PCC: 0.4906\n",
      "Validation Cosine Similarity: 0.6941, Validation PCC: 0.6568\n",
      "Epoch [2/100], Train Loss: 0.3066, Validation Loss: 0.3031\n",
      "Train Cosine Similarity: 0.6934, Train PCC: 0.6557\n",
      "Validation Cosine Similarity: 0.6969, Validation PCC: 0.6596\n",
      "Epoch [3/100], Train Loss: 0.2867, Validation Loss: 0.2718\n",
      "Train Cosine Similarity: 0.7132, Train PCC: 0.6763\n",
      "Validation Cosine Similarity: 0.7297, Validation PCC: 0.6951\n",
      "Epoch [4/100], Train Loss: 0.2681, Validation Loss: 0.2682\n",
      "Train Cosine Similarity: 0.7319, Train PCC: 0.6974\n",
      "Validation Cosine Similarity: 0.7340, Validation PCC: 0.7000\n",
      "Epoch [5/100], Train Loss: 0.2638, Validation Loss: 0.2653\n",
      "Train Cosine Similarity: 0.7363, Train PCC: 0.7023\n",
      "Validation Cosine Similarity: 0.7371, Validation PCC: 0.7039\n",
      "Epoch [6/100], Train Loss: 0.2589, Validation Loss: 0.2517\n",
      "Train Cosine Similarity: 0.7411, Train PCC: 0.7079\n",
      "Validation Cosine Similarity: 0.7431, Validation PCC: 0.7107\n",
      "Epoch [7/100], Train Loss: 0.2520, Validation Loss: 0.2556\n",
      "Train Cosine Similarity: 0.7480, Train PCC: 0.7161\n",
      "Validation Cosine Similarity: 0.7454, Validation PCC: 0.7138\n",
      "Epoch [8/100], Train Loss: 0.2442, Validation Loss: 0.2460\n",
      "Train Cosine Similarity: 0.7558, Train PCC: 0.7253\n",
      "Validation Cosine Similarity: 0.7558, Validation PCC: 0.7257\n",
      "Epoch [9/100], Train Loss: 0.2382, Validation Loss: 0.2523\n",
      "Train Cosine Similarity: 0.7618, Train PCC: 0.7323\n",
      "Validation Cosine Similarity: 0.7534, Validation PCC: 0.7233\n",
      "Epoch [10/100], Train Loss: 0.2341, Validation Loss: 0.2579\n",
      "Train Cosine Similarity: 0.7659, Train PCC: 0.7370\n",
      "Validation Cosine Similarity: 0.7429, Validation PCC: 0.7109\n",
      "Epoch [11/100], Train Loss: 0.2311, Validation Loss: 0.2600\n",
      "Train Cosine Similarity: 0.7689, Train PCC: 0.7406\n",
      "Validation Cosine Similarity: 0.7385, Validation PCC: 0.7062\n",
      "Epoch [12/100], Train Loss: 0.2276, Validation Loss: 0.2683\n",
      "Train Cosine Similarity: 0.7724, Train PCC: 0.7446\n",
      "Validation Cosine Similarity: 0.7332, Validation PCC: 0.7001\n",
      "Epoch [13/100], Train Loss: 0.2255, Validation Loss: 0.2643\n",
      "Train Cosine Similarity: 0.7745, Train PCC: 0.7471\n",
      "Validation Cosine Similarity: 0.7383, Validation PCC: 0.7058\n",
      "Epoch [14/100], Train Loss: 0.2236, Validation Loss: 0.2600\n",
      "Train Cosine Similarity: 0.7764, Train PCC: 0.7493\n",
      "Validation Cosine Similarity: 0.7392, Validation PCC: 0.7070\n",
      "Epoch [15/100], Train Loss: 0.2215, Validation Loss: 0.2575\n",
      "Train Cosine Similarity: 0.7784, Train PCC: 0.7516\n",
      "Validation Cosine Similarity: 0.7408, Validation PCC: 0.7088\n",
      "Epoch [16/100], Train Loss: 0.2201, Validation Loss: 0.2781\n",
      "Train Cosine Similarity: 0.7799, Train PCC: 0.7533\n",
      "Validation Cosine Similarity: 0.7222, Validation PCC: 0.6876\n",
      "Epoch [17/100], Train Loss: 0.2190, Validation Loss: 0.2377\n",
      "Train Cosine Similarity: 0.7810, Train PCC: 0.7546\n",
      "Validation Cosine Similarity: 0.7631, Validation PCC: 0.7345\n",
      "Epoch [18/100], Train Loss: 0.2177, Validation Loss: 0.2577\n",
      "Train Cosine Similarity: 0.7823, Train PCC: 0.7561\n",
      "Validation Cosine Similarity: 0.7441, Validation PCC: 0.7125\n",
      "Epoch [19/100], Train Loss: 0.2161, Validation Loss: 0.2686\n",
      "Train Cosine Similarity: 0.7839, Train PCC: 0.7579\n",
      "Validation Cosine Similarity: 0.7322, Validation PCC: 0.6990\n",
      "Epoch [20/100], Train Loss: 0.2150, Validation Loss: 0.2720\n",
      "Train Cosine Similarity: 0.7850, Train PCC: 0.7592\n",
      "Validation Cosine Similarity: 0.7277, Validation PCC: 0.6940\n",
      "Epoch [21/100], Train Loss: 0.2143, Validation Loss: 0.2652\n",
      "Train Cosine Similarity: 0.7857, Train PCC: 0.7600\n",
      "Validation Cosine Similarity: 0.7313, Validation PCC: 0.6983\n",
      "Epoch [22/100], Train Loss: 0.2133, Validation Loss: 0.2694\n",
      "Train Cosine Similarity: 0.7867, Train PCC: 0.7612\n",
      "Validation Cosine Similarity: 0.7335, Validation PCC: 0.7005\n",
      "Epoch [23/100], Train Loss: 0.2130, Validation Loss: 0.2879\n",
      "Train Cosine Similarity: 0.7870, Train PCC: 0.7615\n",
      "Validation Cosine Similarity: 0.7132, Validation PCC: 0.6774\n",
      "Epoch [24/100], Train Loss: 0.2116, Validation Loss: 0.2771\n",
      "Train Cosine Similarity: 0.7884, Train PCC: 0.7631\n",
      "Validation Cosine Similarity: 0.7238, Validation PCC: 0.6893\n",
      "Epoch [25/100], Train Loss: 0.2107, Validation Loss: 0.2807\n",
      "Train Cosine Similarity: 0.7893, Train PCC: 0.7642\n",
      "Validation Cosine Similarity: 0.7185, Validation PCC: 0.6834\n",
      "Epoch [26/100], Train Loss: 0.2103, Validation Loss: 0.2770\n",
      "Train Cosine Similarity: 0.7897, Train PCC: 0.7646\n",
      "Validation Cosine Similarity: 0.7227, Validation PCC: 0.6882\n",
      "Epoch [27/100], Train Loss: 0.2092, Validation Loss: 0.2796\n",
      "Train Cosine Similarity: 0.7908, Train PCC: 0.7659\n",
      "Validation Cosine Similarity: 0.7211, Validation PCC: 0.6864\n",
      "Epoch [28/100], Train Loss: 0.2087, Validation Loss: 0.2758\n",
      "Train Cosine Similarity: 0.7913, Train PCC: 0.7665\n",
      "Validation Cosine Similarity: 0.7259, Validation PCC: 0.6922\n",
      "Epoch [29/100], Train Loss: 0.2091, Validation Loss: 0.2941\n",
      "Train Cosine Similarity: 0.7909, Train PCC: 0.7660\n",
      "Validation Cosine Similarity: 0.7077, Validation PCC: 0.6711\n",
      "Epoch [30/100], Train Loss: 0.2078, Validation Loss: 0.2896\n",
      "Train Cosine Similarity: 0.7921, Train PCC: 0.7674\n",
      "Validation Cosine Similarity: 0.7076, Validation PCC: 0.6711\n",
      "Epoch [31/100], Train Loss: 0.2080, Validation Loss: 0.2852\n",
      "Train Cosine Similarity: 0.7920, Train PCC: 0.7673\n",
      "Validation Cosine Similarity: 0.7139, Validation PCC: 0.6786\n",
      "Epoch [32/100], Train Loss: 0.2076, Validation Loss: 0.2902\n",
      "Train Cosine Similarity: 0.7924, Train PCC: 0.7677\n",
      "Validation Cosine Similarity: 0.7132, Validation PCC: 0.6778\n",
      "Epoch [33/100], Train Loss: 0.2073, Validation Loss: 0.2814\n",
      "Train Cosine Similarity: 0.7927, Train PCC: 0.7680\n",
      "Validation Cosine Similarity: 0.7159, Validation PCC: 0.6806\n",
      "Epoch [34/100], Train Loss: 0.2076, Validation Loss: 0.2867\n",
      "Train Cosine Similarity: 0.7924, Train PCC: 0.7678\n",
      "Validation Cosine Similarity: 0.7138, Validation PCC: 0.6784\n",
      "Epoch [35/100], Train Loss: 0.2074, Validation Loss: 0.2949\n",
      "Train Cosine Similarity: 0.7926, Train PCC: 0.7679\n",
      "Validation Cosine Similarity: 0.7033, Validation PCC: 0.6663\n",
      "Epoch [36/100], Train Loss: 0.2068, Validation Loss: 0.3101\n",
      "Train Cosine Similarity: 0.7932, Train PCC: 0.7686\n",
      "Validation Cosine Similarity: 0.6907, Validation PCC: 0.6519\n",
      "Epoch [37/100], Train Loss: 0.2067, Validation Loss: 0.2845\n",
      "Train Cosine Similarity: 0.7933, Train PCC: 0.7687\n",
      "Validation Cosine Similarity: 0.7148, Validation PCC: 0.6797\n",
      "Stop Early\n",
      "Training complete.\n",
      "Test: Mean Cosine Similarity: 0.6773\n",
      "Test: Mean Pearson Correlation Coefficient: 0.6357\n",
      "Test: Mean Cosine Similarity: 0.7693\n",
      "Test: Mean Pearson Correlation Coefficient: 0.7412\n",
      "Test: Mean Cosine Similarity: 0.5822\n",
      "Test: Mean Pearson Correlation Coefficient: 0.5160\n"
     ]
    }
   ],
   "source": [
    "epochs = 100\n",
    "trained_model, train_res = train_model(model, criterion, optimizer, epochs, train_dataloader, val_dataloader, device, tb_writer, 20)\n",
    "\n",
    "test_res = test_model(trained_model, criterion, test_dataloader, device, tb_writer, \"hela1 10% test\")\n",
    "hela2_res = test_model(trained_model, criterion, hela2_dataloader, device, tb_writer, \"hela2 test\")\n",
    "deepmass_res = test_model(trained_model, criterion, deepmass_dataloader, device, tb_writer, \"deepmass test\")\n",
    "tb_writer.close()"
   ]
  },
  {
   "cell_type": "code",
   "execution_count": null,
   "metadata": {},
   "outputs": [],
   "source": []
  }
 ],
 "metadata": {
  "kernelspec": {
   "display_name": "mgz_reproduce",
   "language": "python",
   "name": "python3"
  },
  "language_info": {
   "codemirror_mode": {
    "name": "ipython",
    "version": 3
   },
   "file_extension": ".py",
   "mimetype": "text/x-python",
   "name": "python",
   "nbconvert_exporter": "python",
   "pygments_lexer": "ipython3",
   "version": "3.9.19"
  }
 },
 "nbformat": 4,
 "nbformat_minor": 2
}
